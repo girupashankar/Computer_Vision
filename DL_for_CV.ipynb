{
  "nbformat": 4,
  "nbformat_minor": 0,
  "metadata": {
    "colab": {
      "provenance": [],
      "toc_visible": true,
      "authorship_tag": "ABX9TyND1TNhTBqjpXnPZUzLBZQS",
      "include_colab_link": true
    },
    "kernelspec": {
      "name": "python3",
      "display_name": "Python 3"
    },
    "language_info": {
      "name": "python"
    }
  },
  "cells": [
    {
      "cell_type": "markdown",
      "metadata": {
        "id": "view-in-github",
        "colab_type": "text"
      },
      "source": [
        "<a href=\"https://colab.research.google.com/github/girupashankar/Computer_Vision/blob/main/DL_for_CV.ipynb\" target=\"_parent\"><img src=\"https://colab.research.google.com/assets/colab-badge.svg\" alt=\"Open In Colab\"/></a>"
      ]
    },
    {
      "cell_type": "markdown",
      "source": [
        "# Deep Learning foor Computer Vision with Python and TensorFlow by neuralean on freecodecamp.org"
      ],
      "metadata": {
        "id": "1YPrFu0nmGoo"
      }
    },
    {
      "cell_type": "markdown",
      "source": [
        "## Set 1"
      ],
      "metadata": {
        "id": "Lr6bPlxQmoDb"
      }
    },
    {
      "cell_type": "markdown",
      "source": [
        "### Tensorflow Basics"
      ],
      "metadata": {
        "id": "U5NPikTCmYKC"
      }
    },
    {
      "cell_type": "code",
      "execution_count": 1,
      "metadata": {
        "id": "npxbuAHZmFqu"
      },
      "outputs": [],
      "source": [
        "import tensorflow as tf\n",
        "import numpy as np\n",
        "import pandas as pd\n",
        "import matplotlib.pyplot as plt\n",
        "import seaborn as sns"
      ]
    },
    {
      "cell_type": "code",
      "source": [
        "# tensor_zero_d tensor\n",
        "= tf.constant(4)\n",
        "print(tensor_zero_d)\n",
        "type(tensor_zero_d)\n"
      ],
      "metadata": {
        "colab": {
          "base_uri": "https://localhost:8080/"
        },
        "id": "uWu-h2Kem-yH",
        "outputId": "64724d22-6440-4aa8-e6b3-2b59bfb78015"
      },
      "execution_count": 4,
      "outputs": [
        {
          "output_type": "stream",
          "name": "stdout",
          "text": [
            "tf.Tensor(4, shape=(), dtype=int32)\n"
          ]
        },
        {
          "output_type": "execute_result",
          "data": {
            "text/plain": [
              "tensorflow.python.framework.ops.EagerTensor"
            ]
          },
          "metadata": {},
          "execution_count": 4
        }
      ]
    },
    {
      "cell_type": "code",
      "source": [
        "# tensor_one_d tensor\n",
        "tensor_one_d =  tf.constant([2, 3, 4, 5, 6])\n",
        "print(tensor_one_d)"
      ],
      "metadata": {
        "colab": {
          "base_uri": "https://localhost:8080/"
        },
        "id": "8s35a2Oln9b3",
        "outputId": "2a054348-eea5-4eac-b19c-94d1105c7d7e"
      },
      "execution_count": 3,
      "outputs": [
        {
          "output_type": "stream",
          "name": "stdout",
          "text": [
            "tf.Tensor([2 3 4 5 6], shape=(5,), dtype=int32)\n"
          ]
        }
      ]
    },
    {
      "cell_type": "code",
      "source": [
        "# tensor_two_d\n",
        "tensor_two_d = tf.constant([[2,3], [4,5]])\n",
        "print(tensor_two_d)"
      ],
      "metadata": {
        "colab": {
          "base_uri": "https://localhost:8080/"
        },
        "id": "DXqjpHR5ohcx",
        "outputId": "a41bb30f-0fc3-4ba1-aa60-04e02d60b564"
      },
      "execution_count": 6,
      "outputs": [
        {
          "output_type": "stream",
          "name": "stdout",
          "text": [
            "tf.Tensor(\n",
            "[[2 3]\n",
            " [4 5]], shape=(2, 2), dtype=int32)\n"
          ]
        }
      ]
    },
    {
      "cell_type": "code",
      "source": [
        "# tensor_multi_d\n",
        "tensor_multi_d = tf.constant([\n",
        "    [[2,3], [3,4],\n",
        "     [23,33],[4, 5]],\n",
        "    [[32,44], [2, 5],\n",
        "     [7,8], [9,9]]\n",
        "     ])\n",
        "print(tensor_multi_d)"
      ],
      "metadata": {
        "colab": {
          "base_uri": "https://localhost:8080/"
        },
        "id": "4jHi7x46oKGA",
        "outputId": "41e6fd39-e78d-47d7-d3a2-4fcd913b9997"
      },
      "execution_count": 11,
      "outputs": [
        {
          "output_type": "stream",
          "name": "stdout",
          "text": [
            "tf.Tensor(\n",
            "[[[ 2  3]\n",
            "  [ 3  4]\n",
            "  [23 33]\n",
            "  [ 4  5]]\n",
            "\n",
            " [[32 44]\n",
            "  [ 2  5]\n",
            "  [ 7  8]\n",
            "  [ 9  9]]], shape=(2, 4, 2), dtype=int32)\n"
          ]
        }
      ]
    },
    {
      "cell_type": "code",
      "source": [
        "tensor_four_d = tf.constant([\n",
        " [[[2,3], [3,4],\n",
        "     [23,33],[4, 5]],\n",
        "    [[32,44], [2, 5],\n",
        "     [7,8], [9,9]]],\n",
        "  [[[2,3], [3,4],\n",
        "     [23,33],[4, 5]],\n",
        "    [[32,44], [2, 5],\n",
        "     [7,8], [9,9]]]\n",
        "     ])\n",
        "print(tensor_four_d)"
      ],
      "metadata": {
        "colab": {
          "base_uri": "https://localhost:8080/"
        },
        "id": "XZ0KvxmkpbQh",
        "outputId": "95b119ae-6bb7-4a69-ff3f-3654d99e73a6"
      },
      "execution_count": 15,
      "outputs": [
        {
          "output_type": "stream",
          "name": "stdout",
          "text": [
            "tf.Tensor(\n",
            "[[[[ 2  3]\n",
            "   [ 3  4]\n",
            "   [23 33]\n",
            "   [ 4  5]]\n",
            "\n",
            "  [[32 44]\n",
            "   [ 2  5]\n",
            "   [ 7  8]\n",
            "   [ 9  9]]]\n",
            "\n",
            "\n",
            " [[[ 2  3]\n",
            "   [ 3  4]\n",
            "   [23 33]\n",
            "   [ 4  5]]\n",
            "\n",
            "  [[32 44]\n",
            "   [ 2  5]\n",
            "   [ 7  8]\n",
            "   [ 9  9]]]], shape=(2, 2, 4, 2), dtype=int32)\n"
          ]
        }
      ]
    },
    {
      "cell_type": "markdown",
      "source": [
        "### Casting"
      ],
      "metadata": {
        "id": "FPxcVePWtquk"
      }
    },
    {
      "cell_type": "code",
      "source": [
        "casted_data = tf.cast(tensor_four_d, dtype=tf.quint8)\n",
        "print(casted_data)"
      ],
      "metadata": {
        "colab": {
          "base_uri": "https://localhost:8080/"
        },
        "id": "dOvPY0knrCbK",
        "outputId": "3fc4a4d1-db3f-4064-de21-dd2e6ad238d0"
      },
      "execution_count": 17,
      "outputs": [
        {
          "output_type": "stream",
          "name": "stdout",
          "text": [
            "tf.Tensor(\n",
            "[[[[ 2  3]\n",
            "   [ 3  4]\n",
            "   [23 33]\n",
            "   [ 4  5]]\n",
            "\n",
            "  [[32 44]\n",
            "   [ 2  5]\n",
            "   [ 7  8]\n",
            "   [ 9  9]]]\n",
            "\n",
            "\n",
            " [[[ 2  3]\n",
            "   [ 3  4]\n",
            "   [23 33]\n",
            "   [ 4  5]]\n",
            "\n",
            "  [[32 44]\n",
            "   [ 2  5]\n",
            "   [ 7  8]\n",
            "   [ 9  9]]]], shape=(2, 2, 4, 2), dtype=quint8)\n"
          ]
        }
      ]
    },
    {
      "cell_type": "code",
      "source": [
        "np_array =  np.array([1, 2, 3, 4, 5])\n",
        "converted_tensor = tf.convert_to_tensor(np_array)\n",
        "print(converted_tensor)"
      ],
      "metadata": {
        "colab": {
          "base_uri": "https://localhost:8080/"
        },
        "id": "kOSeL5aMtjAE",
        "outputId": "04eca669-e125-4e22-dcd0-4fd7e0cec9b1"
      },
      "execution_count": 18,
      "outputs": [
        {
          "output_type": "stream",
          "name": "stdout",
          "text": [
            "tf.Tensor([1 2 3 4 5], shape=(5,), dtype=int64)\n"
          ]
        }
      ]
    },
    {
      "cell_type": "code",
      "source": [
        "eye_tensor = tf.eye(\n",
        "    num_rows=3,\n",
        "    num_columns=None,\n",
        "    batch_shape=None,\n",
        "    dtype=tf.dtypes.float32,\n",
        "    name=None\n",
        ")\n",
        "print(eye_tensor)"
      ],
      "metadata": {
        "colab": {
          "base_uri": "https://localhost:8080/"
        },
        "id": "qoA4EkoruKcs",
        "outputId": "a4c83b96-3bc5-41cf-f24b-551d1b2ea81d"
      },
      "execution_count": 19,
      "outputs": [
        {
          "output_type": "stream",
          "name": "stdout",
          "text": [
            "tf.Tensor(\n",
            "[[1. 0. 0.]\n",
            " [0. 1. 0.]\n",
            " [0. 0. 1.]], shape=(3, 3), dtype=float32)\n"
          ]
        }
      ]
    },
    {
      "cell_type": "code",
      "source": [
        "num = tf.fill([2, 3], 9)\n",
        "print(num)"
      ],
      "metadata": {
        "colab": {
          "base_uri": "https://localhost:8080/"
        },
        "id": "ZyLVaOWOu3ot",
        "outputId": "36fe3cc6-2b72-4724-ed0f-a9c53672fa82"
      },
      "execution_count": 21,
      "outputs": [
        {
          "output_type": "stream",
          "name": "stdout",
          "text": [
            "tf.Tensor(\n",
            "[[9 9 9]\n",
            " [9 9 9]], shape=(2, 3), dtype=int32)\n"
          ]
        }
      ]
    },
    {
      "cell_type": "code",
      "source": [
        "ones_tensor = tf.ones([2,4])\n",
        "print(ones_tensor)"
      ],
      "metadata": {
        "colab": {
          "base_uri": "https://localhost:8080/"
        },
        "id": "lGr8Ixbk3PC7",
        "outputId": "fa044511-74bb-4de9-ca13-cab1cc1e20e9"
      },
      "execution_count": 22,
      "outputs": [
        {
          "output_type": "stream",
          "name": "stdout",
          "text": [
            "tf.Tensor(\n",
            "[[1. 1. 1. 1.]\n",
            " [1. 1. 1. 1.]], shape=(2, 4), dtype=float32)\n"
          ]
        }
      ]
    },
    {
      "cell_type": "code",
      "source": [
        "tf_like =tf.ones_like(tensor_four_d)\n",
        "tf_like"
      ],
      "metadata": {
        "colab": {
          "base_uri": "https://localhost:8080/"
        },
        "id": "45sC04X33i0S",
        "outputId": "7fbbecc8-c8c1-41e1-9bee-0f3af0c93f82"
      },
      "execution_count": 23,
      "outputs": [
        {
          "output_type": "execute_result",
          "data": {
            "text/plain": [
              "<tf.Tensor: shape=(2, 2, 4, 2), dtype=int32, numpy=\n",
              "array([[[[1, 1],\n",
              "         [1, 1],\n",
              "         [1, 1],\n",
              "         [1, 1]],\n",
              "\n",
              "        [[1, 1],\n",
              "         [1, 1],\n",
              "         [1, 1],\n",
              "         [1, 1]]],\n",
              "\n",
              "\n",
              "       [[[1, 1],\n",
              "         [1, 1],\n",
              "         [1, 1],\n",
              "         [1, 1]],\n",
              "\n",
              "        [[1, 1],\n",
              "         [1, 1],\n",
              "         [1, 1],\n",
              "         [1, 1]]]], dtype=int32)>"
            ]
          },
          "metadata": {},
          "execution_count": 23
        }
      ]
    },
    {
      "cell_type": "code",
      "source": [
        "tf.random.normal(\n",
        "    shape=[8,4],\n",
        "    mean=0.0,\n",
        "    stddev=1.0,\n",
        "    dtype=tf.dtypes.float32,\n",
        "    seed=None,\n",
        "    name=None\n",
        ")"
      ],
      "metadata": {
        "colab": {
          "base_uri": "https://localhost:8080/"
        },
        "id": "1l_kKFoX37fb",
        "outputId": "b3f311ac-78e7-480c-a91e-88267533f416"
      },
      "execution_count": 25,
      "outputs": [
        {
          "output_type": "execute_result",
          "data": {
            "text/plain": [
              "<tf.Tensor: shape=(8, 4), dtype=float32, numpy=\n",
              "array([[ 0.15114345,  1.379542  , -1.0367948 ,  0.8538964 ],\n",
              "       [-0.1005175 ,  0.06856307,  0.61814874,  1.1566314 ],\n",
              "       [ 1.4536746 ,  1.419122  ,  0.17386259, -0.27413222],\n",
              "       [ 0.13780724,  2.0099058 ,  2.3457394 ,  0.7018787 ],\n",
              "       [-0.45614064, -0.21334988, -0.91657555, -0.20353895],\n",
              "       [ 2.075087  ,  2.118485  , -1.8792347 , -1.2842528 ],\n",
              "       [ 0.99543875, -0.06927685, -0.0389732 ,  0.23554495],\n",
              "       [ 0.03244505, -0.44770777, -2.1715758 ,  0.34515947]],\n",
              "      dtype=float32)>"
            ]
          },
          "metadata": {},
          "execution_count": 25
        }
      ]
    },
    {
      "cell_type": "code",
      "source": [],
      "metadata": {
        "id": "g3zztsd78YL2"
      },
      "execution_count": null,
      "outputs": []
    }
  ]
}